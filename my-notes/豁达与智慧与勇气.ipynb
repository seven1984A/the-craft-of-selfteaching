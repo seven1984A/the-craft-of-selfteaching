{
 "cells": [
  {
   "cell_type": "code",
   "execution_count": null,
   "id": "562a187d-63a3-4bab-9d3b-11aa70bf85a0",
   "metadata": {},
   "outputs": [],
   "source": [
    "爱因斯坦\n",
    "为了惩罚我蔑视权威，命运也将我变成了一个权威。\n",
    "伯特兰·罗素\n",
    "这世界充满了神奇的事物，耐心等待着我们变聪明好来发现。\n",
    "青年时期是豁达的时期，应该利用这个时期养成自己豁达的性格。\n",
    "那些忘记善恶，只顾追求事实的人，与那些因欲望扭曲事实，只看到自己想看的东西的人相比，更容易达成善举。"
   ]
  }
 ],
 "metadata": {
  "kernelspec": {
   "display_name": "Python 3 (ipykernel)",
   "language": "python",
   "name": "python3"
  },
  "language_info": {
   "codemirror_mode": {
    "name": "ipython",
    "version": 3
   },
   "file_extension": ".py",
   "mimetype": "text/x-python",
   "name": "python",
   "nbconvert_exporter": "python",
   "pygments_lexer": "ipython3",
   "version": "3.9.13"
  }
 },
 "nbformat": 4,
 "nbformat_minor": 5
}
